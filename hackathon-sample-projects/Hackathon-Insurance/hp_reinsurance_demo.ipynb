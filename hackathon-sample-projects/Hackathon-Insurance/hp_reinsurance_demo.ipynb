{
 "cells": [
  {
   "cell_type": "markdown",
   "metadata": {},
   "source": [
    "# HP Jupyter Environment Demo: Reinsurance Portfolio Analysis\n",
    "\n",
    "This notebook demonstrates HP's Jupyter capabilities through a comprehensive reinsurance portfolio analysis. It includes synthetic data generation, statistical analysis, and interactive visualizations to help insurance professionals understand their portfolio distribution and risk exposure."
   ]
  },
  {
   "cell_type": "code",
   "execution_count": null,
   "metadata": {},
   "source": [
    "import numpy as np\n",
    "import pandas as pd\n",
    "import matplotlib.pyplot as plt\n",
    "import seaborn as sns\n",
    "from datetime import datetime, timedelta\n",
    "\n",
    "# Set random seed for reproducibility\n",
    "np.random.seed(42)\n",
    "\n",
    "# Set default figure size for all plots\n",
    "plt.rcParams['figure.figsize'] = [12, 6]"
   ]
  },
  {
   "cell_type": "markdown",
   "metadata": {},
   "source": [
    "## Data Generation Functions\n",
    "\n",
    "These functions create synthetic insurance policy data with industry-specific risk parameters and policy limits."
   ]
  },
  {
   "cell_type": "code",
   "execution_count": null,
   "metadata": {},
   "source": [
    "def generate_risk_score(industry):\n",
    "    # Industry-specific risk score parameters\n",
    "    industry_risk_params = {\n",
    "        'Manufacturing': (70, 15),  # Higher risk due to equipment and safety\n",
    "        'Healthcare': (60, 12),     # Moderate risk with strict regulations\n",
    "        'Technology': (55, 10),     # Lower risk with mainly office-based operations\n",
    "        'Retail': (65, 13),         # Moderate risk with public exposure\n",
    "        'Energy': (75, 18)          # Highest risk due to operational hazards\n",
    "    }\n",
    "    mean, std = industry_risk_params[industry]\n",
    "    return float(np.clip(np.random.normal(mean, std), 0, 100))\n",
    "\n",
    "def generate_policy_limit(industry, risk_score):\n",
    "    # Base distribution parameters influenced by industry\n",
    "    industry_limit_factors = {\n",
    "        'Manufacturing': 2.0,  # Higher limits due to equipment value\n",
    "        'Healthcare': 1.8,     # High limits due to liability\n",
    "        'Technology': 1.5,     # Moderate limits\n",
    "        'Retail': 1.2,        # Lower limits\n",
    "        'Energy': 2.5         # Highest limits due to infrastructure\n",
    "    }\n",
    "    \n",
    "    # Risk score influence on limit (higher risk → tendency for higher limits)\n",
    "    risk_factor = 1 + (risk_score - 50) / 100\n",
    "    \n",
    "    # Generate base limit with industry factor and risk adjustment\n",
    "    base_limit = float(np.random.lognormal(\n",
    "        mean=np.log(5_000_000),  # Center around 5M\n",
    "        sigma=1.2  # Wide spread\n",
    "    )) * industry_limit_factors[industry] * risk_factor\n",
    "    \n",
    "    # Add some randomness while maintaining the relationship\n",
    "    final_limit = base_limit + np.random.normal(0, base_limit * 0.1)\n",
    "    return max(100_000, final_limit)\n",
    "\n",
    "def generate_reinsurance_data(n_policies=1000):\n",
    "    # Industry distribution (weighted towards manufacturing and healthcare)\n",
    "    industries = np.random.choice(\n",
    "        ['Manufacturing', 'Healthcare', 'Technology', 'Retail', 'Energy'],\n",
    "        size=n_policies,\n",
    "        p=[0.35, 0.25, 0.2, 0.15, 0.05]  # Adjusted probabilities\n",
    "    )\n",
    "    \n",
    "    # Generate risk scores based on industry\n",
    "    risk_scores = np.array([generate_risk_score(ind) for ind in industries])\n",
    "    \n",
    "    # Generate policy limits based on industry and risk score\n",
    "    policy_limits = np.array([\n",
    "        generate_policy_limit(ind, risk) \n",
    "        for ind, risk in zip(industries, risk_scores)\n",
    "    ]).round(-4)  # Round to nearest 10k\n",
    "    \n",
    "    # Create DataFrame\n",
    "    df = pd.DataFrame({\n",
    "        'policy_id': range(1, n_policies + 1),\n",
    "        'industry': industries,\n",
    "        'risk_score': risk_scores,\n",
    "        'policy_limit': policy_limits\n",
    "    })\n",
    "    \n",
    "    return df"
   ]
  },
  {
   "cell_type": "markdown",
   "metadata": {},
   "source": [
    "## Reinsurance Band Classification\n",
    "\n",
    "This function categorizes policies into five standard reinsurance bands based on their policy limits."
   ]
  },
  {
   "cell_type": "code",
   "execution_count": null,
   "metadata": {},
   "source": [
    "def create_reinsurance_bands(df):\n",
    "    bands = [\n",
    "        (0, 1_000_000, 'Band 1: Up to $1M'),\n",
    "        (1_000_000, 5_000_000, 'Band 2: $1M - $5M'),\n",
    "        (5_000_000, 10_000_000, 'Band 3: $5M - $10M'),\n",
    "        (10_000_000, 50_000_000, 'Band 4: $10M - $50M'),\n",
    "        (50_000_000, float('inf'), 'Band 5: $50M+')\n",
    "    ]\n",
    "    \n",
    "    def get_band(limit):\n",
    "        for low, high, label in bands:\n",
    "            if low <= limit < high:\n",
    "                return label\n",
    "        return bands[-1][2]  # Return highest band if above all thresholds\n",
    "    \n",
    "    df['reinsurance_band'] = df['policy_limit'].apply(get_band)\n",
    "    return df"
   ]
  },
  {
   "cell_type": "markdown",
   "metadata": {},
   "source": [
    "## Portfolio Analysis Functions\n",
    "\n",
    "These functions provide detailed analysis of the portfolio distribution and create visualizations."
   ]
  },
  {
   "cell_type": "code",
   "execution_count": null,
   "metadata": {},
   "source": [
    "def analyze_portfolio(df):\n",
    "    # Basic statistics\n",
    "    print(\"\\n=== Portfolio Analysis ===\")\n",
    "    print(f\"Total number of policies: {len(df):,}\")\n",
    "    print(f\"Total portfolio value: ${df['policy_limit'].sum():,.2f}\")\n",
    "    print(f\"Average policy limit: ${df['policy_limit'].mean():,.2f}\")\n",
    "    print(f\"Median policy limit: ${df['policy_limit'].median():,.2f}\")\n",
    "    \n",
    "    # Band distribution\n",
    "    band_dist = df['reinsurance_band'].value_counts().sort_index()\n",
    "    print(\"\\n=== Band Distribution ===\")\n",
    "    for band, count in band_dist.items():\n",
    "        total_value = df[df['reinsurance_band'] == band]['policy_limit'].sum()\n",
    "        print(f\"{band}:\")\n",
    "        print(f\"  Policies: {count:,} ({count/len(df)*100:.1f}%)\")\n",
    "        print(f\"  Total Value: ${total_value:,.2f}\")\n",
    "        print(f\"  Average Limit: ${total_value/count:,.2f}\")\n",
    "    \n",
    "    # Industry distribution within bands\n",
    "    print(\"\\n=== Industry Distribution by Band ===\")\n",
    "    industry_band_dist = pd.crosstab(df['reinsurance_band'], df['industry'], normalize='index') * 100\n",
    "    print(industry_band_dist.round(1))\n",
    "    \n",
    "    # Risk analysis\n",
    "    print(\"\\n=== Risk Score Analysis ===\")\n",
    "    risk_stats = df.groupby('reinsurance_band')['risk_score'].agg(['mean', 'std', 'min', 'max'])\n",
    "    print(\"\\nRisk Score Statistics by Band:\")\n",
    "    print(risk_stats.round(2))\n",
    "\n",
    "def create_visualizations(df):\n",
    "    # Set style for better visualization\n",
    "    plt.style.use('default')\n",
    "    sns.set_theme(style=\"whitegrid\")\n",
    "    \n",
    "    # 1. Band Distribution\n",
    "    plt.figure()\n",
    "    band_counts = df['reinsurance_band'].value_counts().sort_index()\n",
    "    colors = sns.color_palette(\"husl\", n_colors=len(band_counts))\n",
    "    ax = band_counts.plot(kind='bar', color=colors)\n",
    "    plt.title('Distribution of Policies Across Reinsurance Bands')\n",
    "    plt.xlabel('Reinsurance Band')\n",
    "    plt.ylabel('Number of Policies')\n",
    "    plt.xticks(rotation=45, ha='right')\n",
    "    \n",
    "    # Add value labels on top of each bar\n",
    "    for i, v in enumerate(band_counts):\n",
    "        ax.text(i, v, str(v), ha='center', va='bottom')\n",
    "    \n",
    "    plt.tight_layout()\n",
    "    plt.show()\n",
    "    \n",
    "    # 2. Risk Score Distribution by Band\n",
    "    plt.figure()\n",
    "    sns.boxplot(data=df, x='reinsurance_band', y='risk_score')\n",
    "    plt.title('Risk Score Distribution by Reinsurance Band')\n",
    "    plt.xticks(rotation=45)\n",
    "    plt.tight_layout()\n",
    "    plt.show()\n",
    "    \n",
    "    # 3. Industry Distribution\n",
    "    plt.figure()\n",
    "    industry_band = pd.crosstab(df['reinsurance_band'], df['industry'], normalize='index')\n",
    "    industry_band.plot(kind='bar', stacked=True)\n",
    "    plt.title('Industry Distribution Within Each Reinsurance Band')\n",
    "    plt.xlabel('Reinsurance Band')\n",
    "    plt.ylabel('Proportion')\n",
    "    plt.legend(title='Industry', bbox_to_anchor=(1.05, 1), loc='center left')\n",
    "    plt.tight_layout()\n",
    "    plt.show()\n",
    "\n",
    "    # 4. Risk Score vs Policy Limit\n",
    "    plt.figure()\n",
    "    sns.scatterplot(data=df, x='risk_score', y='policy_limit', hue='industry', alpha=0.6)\n",
    "    plt.title('Risk Score vs Policy Limit by Industry')\n",
    "    plt.xlabel('Risk Score')\n",
    "    plt.ylabel('Policy Limit ($)')\n",
    "    plt.yscale('log')\n",
    "    plt.gca().yaxis.set_major_formatter(plt.FuncFormatter(lambda x, p: f'${x:,.0f}'))\n",
    "    plt.legend(title='Industry', bbox_to_anchor=(1.05, 1), loc='center left')\n",
    "    plt.tight_layout()\n",
    "    plt.show()"
   ]
  },
  {
   "cell_type": "markdown",
   "metadata": {},
   "source": [
    "## Generate and Analyze Portfolio Data\n",
    "\n",
    "Now let's generate a sample portfolio and analyze its characteristics."
   ]
  },
  {
   "cell_type": "code",
   "execution_count": null,
   "metadata": {},
   "source": [
    "# Generate synthetic dataset\n",
    "df = generate_reinsurance_data()\n",
    "\n",
    "# Add reinsurance bands\n",
    "df = create_reinsurance_bands(df)\n",
    "\n",
    "# Display sample of the data\n",
    "print(\"Sample of the generated dataset:\")\n",
    "df.head()"
   ]
  },
  {
   "cell_type": "code",
   "execution_count": null,
   "metadata": {},
   "source": [
    "# Run portfolio analysis\n",
    "analyze_portfolio(df)"
   ]
  },
  {
   "cell_type": "code",
   "execution_count": null,
   "metadata": {},
   "source": [
    "# Generate visualizations\n",
    "create_visualizations(df)"
   ]
  },
  {
   "cell_type": "markdown",
   "metadata": {},
   "source": [
    "## Key Insights\n",
    "\n",
    "The analysis provides several key insights:\n",
    "\n",
    "1. **Band Distribution**: Shows how policies are distributed across different limit bands, helping identify concentration risks\n",
    "2. **Risk Score Analysis**: Reveals the relationship between policy limits and risk scores\n",
    "3. **Industry Exposure**: Demonstrates the portfolio's industry diversification within each band\n",
    "\n",
    "This analysis can help in:\n",
    "- Optimizing reinsurance strategy\n",
    "- Managing exposure concentrations\n",
    "- Understanding industry-specific risks\n",
    "- Identifying potential areas for growth or reduction"
   ]
  }
 ],
 "metadata": {
  "kernelspec": {
   "display_name": "Python 3 (ipykernel)",
   "language": "python",
   "name": "python3"
  },
  "language_info": {
   "codemirror_mode": {
    "name": "ipython",
    "version": 3
   },
   "file_extension": ".py",
   "mimetype": "text/x-python",
   "name": "python",
   "nbconvert_exporter": "python",
   "pygments_lexer": "ipython3",
   "version": "3.13.1"
  }
 },
 "nbformat": 4,
 "nbformat_minor": 4
}
