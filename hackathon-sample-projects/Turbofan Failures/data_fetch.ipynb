{
 "cells": [
  {
   "cell_type": "code",
   "execution_count": 1,
   "id": "342779fa-6e70-4c4e-a04d-3c1e6a516bfa",
   "metadata": {},
   "outputs": [],
   "source": [
    "# Import necessary libraries\n",
    "import os\n",
    "import requests\n",
    "from zipfile import ZipFile\n",
    "import shutil"
   ]
  },
  {
   "cell_type": "code",
   "execution_count": 2,
   "id": "30848f49-f05e-42e8-8856-e775a59e53ca",
   "metadata": {},
   "outputs": [],
   "source": [
    "# Define the URL of the dataset and the target directory\n",
    "url = 'https://phm-datasets.s3.amazonaws.com/NASA/6.+Turbofan+Engine+Degradation+Simulation+Data+Set.zip'\n",
    "zip_file_path = 'turbofan_data.zip'\n",
    "extract_folder = 'turbofan_data'"
   ]
  },
  {
   "cell_type": "code",
   "execution_count": 3,
   "id": "3d9338e9-a4a8-4f8b-9778-c80421667e6c",
   "metadata": {},
   "outputs": [
    {
     "name": "stdout",
     "output_type": "stream",
     "text": [
      "Downloaded data to turbofan_data.zip\n"
     ]
    }
   ],
   "source": [
    "# Function to download the dataset\n",
    "def download_data(url, zip_file_path):\n",
    "    response = requests.get(url)\n",
    "    with open(zip_file_path, 'wb') as file:\n",
    "        file.write(response.content)\n",
    "    print(f'Downloaded data to {zip_file_path}')\n",
    "\n",
    "# Download the data\n",
    "download_data(url, zip_file_path)"
   ]
  },
  {
   "cell_type": "code",
   "execution_count": 4,
   "id": "abdcc118-8f92-4986-9ad8-14a1376d2865",
   "metadata": {},
   "outputs": [
    {
     "name": "stdout",
     "output_type": "stream",
     "text": [
      "Extracted and reorganized files to turbofan_data\n"
     ]
    }
   ],
   "source": [
    "# Function to extract the zip file and move contents to the target folder\n",
    "def extract_and_reorganize(zip_file_path, extract_folder):\n",
    "    temp_folder = 'temp_extracted'\n",
    "    with ZipFile(zip_file_path, 'r') as zip_ref:\n",
    "        zip_ref.extractall(temp_folder)\n",
    "    # Move contents from the extracted folder to the target folder\n",
    "    extracted_subfolder = os.path.join(temp_folder, '6. Turbofan Engine Degradation Simulation Data Set')\n",
    "    if not os.path.exists(extract_folder):\n",
    "        os.makedirs(extract_folder)\n",
    "    for item in os.listdir(extracted_subfolder):\n",
    "        s = os.path.join(extracted_subfolder, item)\n",
    "        d = os.path.join(extract_folder, item)\n",
    "        shutil.move(s, d)\n",
    "    shutil.rmtree(temp_folder)\n",
    "    print(f'Extracted and reorganized files to {extract_folder}')\n",
    "\n",
    "# Extract and reorganize the downloaded zip file\n",
    "extract_and_reorganize(zip_file_path, extract_folder)"
   ]
  },
  {
   "cell_type": "code",
   "execution_count": 5,
   "id": "e4c295d5-7861-4006-99c5-99bafd233e62",
   "metadata": {},
   "outputs": [
    {
     "data": {
      "text/plain": [
       "['CMAPSSData.zip']"
      ]
     },
     "execution_count": 5,
     "metadata": {},
     "output_type": "execute_result"
    }
   ],
   "source": [
    "# List the files in the final target folder\n",
    "os.listdir(extract_folder)"
   ]
  },
  {
   "cell_type": "code",
   "execution_count": 6,
   "id": "4a6fe3df-6976-4e04-9d84-3ec40a7ff016",
   "metadata": {},
   "outputs": [
    {
     "name": "stdout",
     "output_type": "stream",
     "text": [
      "Extracted CMAPSSData.zip into turbofan_data\n"
     ]
    }
   ],
   "source": [
    "# Unzip the CMAPSSData.zip file\n",
    "cmapss_zip_path = os.path.join(extract_folder, 'CMAPSSData.zip')\n",
    "\n",
    "with ZipFile(cmapss_zip_path, 'r') as zip_ref:\n",
    "    zip_ref.extractall(extract_folder)\n",
    "\n",
    "print(f'Extracted CMAPSSData.zip into {extract_folder}')"
   ]
  },
  {
   "cell_type": "code",
   "execution_count": 7,
   "id": "b464a3bb-ab75-46ba-a9ba-ac0d2f21a9a7",
   "metadata": {},
   "outputs": [
    {
     "data": {
      "text/plain": [
       "['RUL_FD003.txt',\n",
       " 'train_FD004.txt',\n",
       " 'CMAPSSData.zip',\n",
       " 'train_FD003.txt',\n",
       " 'test_FD004.txt',\n",
       " 'test_FD002.txt',\n",
       " 'RUL_FD001.txt',\n",
       " 'RUL_FD004.txt',\n",
       " 'RUL_FD002.txt',\n",
       " 'Damage Propagation Modeling.pdf',\n",
       " 'test_FD001.txt',\n",
       " 'train_FD001.txt',\n",
       " 'test_FD003.txt',\n",
       " 'readme.txt',\n",
       " 'train_FD002.txt']"
      ]
     },
     "execution_count": 7,
     "metadata": {},
     "output_type": "execute_result"
    }
   ],
   "source": [
    "# List the files in the turbofan_data folder after extracting CMAPSSData.zip\n",
    "os.listdir(extract_folder)"
   ]
  },
  {
   "cell_type": "code",
   "execution_count": null,
   "id": "33a3dd9c-fffe-497b-8166-9602cc5845a7",
   "metadata": {},
   "outputs": [],
   "source": []
  }
 ],
 "metadata": {
  "kernelspec": {
   "display_name": "Python [conda env:base] *",
   "language": "python",
   "name": "conda-base-py"
  },
  "language_info": {
   "codemirror_mode": {
    "name": "ipython",
    "version": 3
   },
   "file_extension": ".py",
   "mimetype": "text/x-python",
   "name": "python",
   "nbconvert_exporter": "python",
   "pygments_lexer": "ipython3",
   "version": "3.12.7"
  }
 },
 "nbformat": 4,
 "nbformat_minor": 5
}
